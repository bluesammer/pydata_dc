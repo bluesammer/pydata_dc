{
 "cells": [
  {
   "cell_type": "markdown",
   "metadata": {
    "slideshow": {
     "slide_type": "slide"
    }
   },
   "source": [
    "# Fuzzy Search \n",
    "\n",
    "## PyData DC 2016\n",
    "\n",
    "Jiaqi Liu\n",
    "\n",
    "https://github.com/jiaqi216/pydata_dc\n",
    "\n",
    "\n",
    "    "
   ]
  },
  {
   "cell_type": "markdown",
   "metadata": {
    "slideshow": {
     "slide_type": "slide"
    }
   },
   "source": [
    "**whoami**\n",
    "\n",
    "- Jiaqi Liu\n",
    "- Data Scientist @ Capital One\n",
    "- NYC based\n",
    "- work mostly at the intersection of data science and engineering\n",
    "- https://github.com/jiaqi216/pydata_dc\n"
   ]
  },
  {
   "cell_type": "markdown",
   "metadata": {
    "slideshow": {
     "slide_type": "slide"
    }
   },
   "source": [
    "**Fuzzy Match Algorithms**\n",
    "\n",
    "- \"Distance between words\"\n",
    "- Soundex \n",
    "- Levenshtein\n",
    "- n-gram\n",
    "- NLTK/Word2Vec"
   ]
  },
  {
   "cell_type": "markdown",
   "metadata": {
    "slideshow": {
     "slide_type": "slide"
    }
   },
   "source": [
    "**Soundex**\n",
    "\n",
    "- phonetic algorithm\n",
    "- index by sound as pronounced in English\n",
    "- assigns a soundex coding \n",
    "- ideal for spelling inconsistencies"
   ]
  },
  {
   "cell_type": "markdown",
   "metadata": {
    "slideshow": {
     "slide_type": "slide"
    }
   },
   "source": [
    "**American Soundex Coding**\n",
    "\n",
    "[http://www.archives.gov/research/census/soundex.html](http://www.archives.gov/research/census/soundex.html)\n",
    "\n",
    "every soundex code is a letter and three numbers\n",
    "\n",
    "| Number | Letter |\n",
    "|---------|----------|\n",
    "|1|B,F,P,V|\n",
    "|2|C,G,J,K,Q,S,X,Z|\n",
    "|3|D,T|\n",
    "|4|L|\n",
    "|5|M,N|\n",
    "|6|R|\n",
    "\n",
    "Ignore A,E,I,O,U,H,W,Y"
   ]
  },
  {
   "cell_type": "code",
   "execution_count": 46,
   "metadata": {
    "collapsed": false,
    "slideshow": {
     "slide_type": "slide"
    }
   },
   "outputs": [
    {
     "name": "stdout",
     "output_type": "stream",
     "text": [
      "W252\n",
      "W252\n"
     ]
    }
   ],
   "source": [
    "import jellyfish as j\n",
    "\n",
    "a=j.soundex('WASHINGTON')\n",
    "print(a)\n",
    "b=j.soundex('WUSHINGTON')\n",
    "print(b)"
   ]
  },
  {
   "cell_type": "code",
   "execution_count": 8,
   "metadata": {
    "collapsed": false,
    "slideshow": {
     "slide_type": "fragment"
    }
   },
   "outputs": [
    {
     "name": "stdout",
     "output_type": "stream",
     "text": [
      "L200\n",
      "L263\n"
     ]
    }
   ],
   "source": [
    "a=j.soundex('LGA')\n",
    "print(a)\n",
    "b=j.soundex('LAGUARDIA')\n",
    "print(b)"
   ]
  },
  {
   "cell_type": "code",
   "execution_count": 48,
   "metadata": {
    "collapsed": false,
    "slideshow": {
     "slide_type": "fragment"
    }
   },
   "outputs": [
    {
     "name": "stdout",
     "output_type": "stream",
     "text": [
      "W630\n",
      "W630\n"
     ]
    }
   ],
   "source": [
    "a=j.soundex('WORD#123')\n",
    "print(a)\n",
    "a2=j.soundex('WORD')\n",
    "print(a2)"
   ]
  },
  {
   "cell_type": "code",
   "execution_count": 49,
   "metadata": {
    "collapsed": false,
    "slideshow": {
     "slide_type": "slide"
    }
   },
   "outputs": [
    {
     "name": "stdout",
     "output_type": "stream",
     "text": [
      "A213\n",
      "E213\n"
     ]
    }
   ],
   "source": [
    "#Homonyms\n",
    "a=j.soundex('accept')\n",
    "print(a)\n",
    "a2=j.soundex('except')\n",
    "print(a2)"
   ]
  },
  {
   "cell_type": "code",
   "execution_count": 50,
   "metadata": {
    "collapsed": false,
    "slideshow": {
     "slide_type": "fragment"
    }
   },
   "outputs": [
    {
     "name": "stdout",
     "output_type": "stream",
     "text": [
      "F630\n",
      "F630\n"
     ]
    }
   ],
   "source": [
    "a=j.soundex('forth')\n",
    "print(a)\n",
    "a2=j.soundex('fourth')\n",
    "print(a2)"
   ]
  },
  {
   "cell_type": "markdown",
   "metadata": {
    "slideshow": {
     "slide_type": "slide"
    }
   },
   "source": [
    "Soundex with PostgreSQL\n",
    "\n",
    "https://www.postgresql.org/docs/9.1/static/fuzzystrmatch.html\n",
    "\n",
    "`CREATE EXTENSION fuzzystrmatch;`"
   ]
  },
  {
   "cell_type": "code",
   "execution_count": 53,
   "metadata": {
    "collapsed": true,
    "slideshow": {
     "slide_type": "-"
    }
   },
   "outputs": [],
   "source": [
    "from sqlalchemy import create_engine\n",
    "\n",
    "engine = create_engine('postgresql://hhu373@localhost/cities')\n",
    "connection = engine.connect()"
   ]
  },
  {
   "cell_type": "code",
   "execution_count": 92,
   "metadata": {
    "collapsed": false,
    "slideshow": {
     "slide_type": "slide"
    }
   },
   "outputs": [
    {
     "data": {
      "text/plain": [
       "[('A500', 'A500', 4)]"
      ]
     },
     "execution_count": 92,
     "metadata": {},
     "output_type": "execute_result"
    }
   ],
   "source": [
    "from sqlalchemy.sql import text\n",
    "\n",
    "query = \"select soundex('Anne'), soundex('Ann'), difference('Anne','Ann')\"\n",
    "res = engine.execute(text(query))\n",
    "res.fetchall()"
   ]
  },
  {
   "cell_type": "markdown",
   "metadata": {
    "slideshow": {
     "slide_type": "fragment"
    }
   },
   "source": [
    "\"The difference function converts two strings to their Soundex codes and then reports the number of matching code positions. Since Soundex codes have four characters, the result ranges from zero to four, with zero being no match and four being an exact match.\" - PostgreSQL documentation"
   ]
  },
  {
   "cell_type": "code",
   "execution_count": 121,
   "metadata": {
    "collapsed": true,
    "slideshow": {
     "slide_type": "slide"
    }
   },
   "outputs": [],
   "source": [
    "query = \"\"\"\n",
    "        SELECT    alt_spelling \n",
    "        FROM      fuzzy_names \n",
    "        WHERE     soundex(alt_spelling) = soundex('WASHINGTON DC')\"\"\""
   ]
  },
  {
   "cell_type": "code",
   "execution_count": 122,
   "metadata": {
    "collapsed": false
   },
   "outputs": [
    {
     "data": {
      "text/plain": [
       "[(' WSHINGTONDC',), (' Washington D.C.',), (' WSHINGTON DC',)]"
      ]
     },
     "execution_count": 122,
     "metadata": {},
     "output_type": "execute_result"
    }
   ],
   "source": [
    "res = engine.execute(text(query))\n",
    "res.fetchall()"
   ]
  },
  {
   "cell_type": "code",
   "execution_count": 123,
   "metadata": {
    "collapsed": true,
    "slideshow": {
     "slide_type": "slide"
    }
   },
   "outputs": [],
   "source": [
    "query = \"\"\"\n",
    "        SELECT    alt_spelling \n",
    "        FROM      fuzzy_names \n",
    "        WHERE     difference(alt_spelling, 'WASHINGTON DC') > 2\"\"\""
   ]
  },
  {
   "cell_type": "code",
   "execution_count": 124,
   "metadata": {
    "collapsed": false
   },
   "outputs": [
    {
     "data": {
      "text/plain": [
       "[('Tuscon, AZ',),\n",
       " (' Washinton DC',),\n",
       " ('Los Angelos,CA',),\n",
       " ('Las Angeles, CA',),\n",
       " ('Las Angeles, CA',),\n",
       " (' WSHINGTONDC',),\n",
       " (' Wushinton D.C.',),\n",
       " (' Washington D.C.',),\n",
       " (' WSHINGTON DC',)]"
      ]
     },
     "execution_count": 124,
     "metadata": {},
     "output_type": "execute_result"
    }
   ],
   "source": [
    "res = engine.execute(text(query))\n",
    "res.fetchall()"
   ]
  },
  {
   "cell_type": "code",
   "execution_count": 125,
   "metadata": {
    "collapsed": false,
    "slideshow": {
     "slide_type": "slide"
    }
   },
   "outputs": [
    {
     "data": {
      "text/plain": [
       "[('QDDR',),\n",
       " ('QDDR',),\n",
       " ('QDDR',),\n",
       " ('2010-2011 QDDR TERMS OF REFERENCE',),\n",
       " ('2010-2011 QDDR TERMS OF REFERENCE',),\n",
       " ('WATER',),\n",
       " ('WATER',),\n",
       " ('WATER',),\n",
       " ('WATER',),\n",
       " ('QATAR',),\n",
       " (' LETTER',),\n",
       " (' LETTER',),\n",
       " (' LETTER',),\n",
       " (' LETTER',),\n",
       " ('QDDR',),\n",
       " ('LETTER',),\n",
       " ('QDDR',),\n",
       " (\"QDDR MARKS BOLD STEP FORWARD IN STRENGTHENING AMERICA'S CIVILIAN POWER\",),\n",
       " ('LETTER',),\n",
       " ('WATER',),\n",
       " ('WATER',),\n",
       " ('QDDR',),\n",
       " ('WATER',),\n",
       " ('QDDR FOLLOWUP',),\n",
       " ('WATER',),\n",
       " ('QDDR/THANKS',),\n",
       " (' LETTER',),\n",
       " ('4 QDDR DRAFT CHAPTERS',),\n",
       " ('QDDR',),\n",
       " ('QDDR',),\n",
       " ('QDDR',),\n",
       " ('QDDR',),\n",
       " ('QUOTER ABOUT MITCH MCCONNELL',),\n",
       " ('QDDR BREAKFAST',),\n",
       " ('QDDR COVER LETTER FROM S',),\n",
       " ('LETTER',)]"
      ]
     },
     "execution_count": 125,
     "metadata": {},
     "output_type": "execute_result"
    }
   ],
   "source": [
    "#https://www.kaggle.com/kaggle/hillary-clinton-emails\n",
    "#7946 emails\n",
    "query = \"\"\" SELECT     metadatasubject\n",
    "            FROM       emails \n",
    "            WHERE      difference(metadatasubject, 'qatar')> 2\"\"\"\n",
    "res = engine.execute(text(query))\n",
    "res.fetchall()"
   ]
  },
  {
   "cell_type": "markdown",
   "metadata": {
    "slideshow": {
     "slide_type": "slide"
    }
   },
   "source": [
    "**Soundex**\n",
    "- Soundex is pretty easy to implement\n",
    "- Computationally fast\n",
    "- only works on ASCII characters (no foreign languages)\n",
    "- How do you calculate distance"
   ]
  },
  {
   "cell_type": "markdown",
   "metadata": {
    "slideshow": {
     "slide_type": "slide"
    }
   },
   "source": [
    "**Levenshtein distance**\n",
    "- also call edit distance\n",
    "- accounts for how many characters you have to change to have the same string\n",
    "- computationally fast (can handle real time processing)\n",
    "- pairwise comparison"
   ]
  },
  {
   "cell_type": "code",
   "execution_count": 98,
   "metadata": {
    "collapsed": false,
    "slideshow": {
     "slide_type": "slide"
    }
   },
   "outputs": [
    {
     "data": {
      "text/plain": [
       "2"
      ]
     },
     "execution_count": 98,
     "metadata": {},
     "output_type": "execute_result"
    }
   ],
   "source": [
    "import Levenshtein as l\n",
    "\n",
    "l.distance('SMYTHE', 'SMITH')"
   ]
  },
  {
   "cell_type": "code",
   "execution_count": 99,
   "metadata": {
    "collapsed": false,
    "slideshow": {
     "slide_type": "fragment"
    }
   },
   "outputs": [
    {
     "data": {
      "text/plain": [
       "1"
      ]
     },
     "execution_count": 99,
     "metadata": {},
     "output_type": "execute_result"
    }
   ],
   "source": [
    "l.distance('café', 'cafe')"
   ]
  },
  {
   "cell_type": "markdown",
   "metadata": {
    "slideshow": {
     "slide_type": "slide"
    }
   },
   "source": [
    "Pitfall: Comparing Addresses"
   ]
  },
  {
   "cell_type": "code",
   "execution_count": 100,
   "metadata": {
    "collapsed": false,
    "slideshow": {
     "slide_type": "-"
    }
   },
   "outputs": [
    {
     "data": {
      "text/plain": [
       "3"
      ]
     },
     "execution_count": 100,
     "metadata": {},
     "output_type": "execute_result"
    }
   ],
   "source": [
    "str99 = '99 Broadway'\n",
    "str100 = '100 Broadway'\n",
    "str999 = '999 Broadway'\n",
    "\n",
    "l.distance(str99, str100)"
   ]
  },
  {
   "cell_type": "markdown",
   "metadata": {
    "slideshow": {
     "slide_type": "notes"
    }
   },
   "source": [
    "- weighing numbers differently from letters"
   ]
  },
  {
   "cell_type": "markdown",
   "metadata": {
    "slideshow": {
     "slide_type": "slide"
    }
   },
   "source": [
    "Longer Strings"
   ]
  },
  {
   "cell_type": "code",
   "execution_count": 101,
   "metadata": {
    "collapsed": false
   },
   "outputs": [
    {
     "data": {
      "text/plain": [
       "4"
      ]
     },
     "execution_count": 101,
     "metadata": {},
     "output_type": "execute_result"
    }
   ],
   "source": [
    "str1='Hello world, python is great'\n",
    "str2='Hello world, python is good'\n",
    "l.distance(str1,str2)"
   ]
  },
  {
   "cell_type": "code",
   "execution_count": 102,
   "metadata": {
    "collapsed": false,
    "slideshow": {
     "slide_type": "fragment"
    }
   },
   "outputs": [
    {
     "data": {
      "text/plain": [
       "4"
      ]
     },
     "execution_count": 102,
     "metadata": {},
     "output_type": "execute_result"
    }
   ],
   "source": [
    "import Levenshtein as l\n",
    "str1='great'\n",
    "str2='good'\n",
    "l.distance(str1,str2)"
   ]
  },
  {
   "cell_type": "markdown",
   "metadata": {
    "slideshow": {
     "slide_type": "notes"
    }
   },
   "source": [
    "- counting raw edits penalizes long strings: use a ratio of edits to length\n"
   ]
  },
  {
   "cell_type": "markdown",
   "metadata": {
    "slideshow": {
     "slide_type": "slide"
    }
   },
   "source": [
    "**Damerau-Levenshtein**\n",
    "- like Levenshtein but accounts for transposition of adjacent characters"
   ]
  },
  {
   "cell_type": "code",
   "execution_count": 103,
   "metadata": {
    "collapsed": false
   },
   "outputs": [
    {
     "data": {
      "text/plain": [
       "1"
      ]
     },
     "execution_count": 103,
     "metadata": {},
     "output_type": "execute_result"
    }
   ],
   "source": [
    "j.damerau_levenshtein_distance('recieve', 'receive')"
   ]
  },
  {
   "cell_type": "code",
   "execution_count": 104,
   "metadata": {
    "collapsed": false
   },
   "outputs": [
    {
     "data": {
      "text/plain": [
       "2"
      ]
     },
     "execution_count": 104,
     "metadata": {},
     "output_type": "execute_result"
    }
   ],
   "source": [
    "j.levenshtein_distance('recieve', 'receive')"
   ]
  },
  {
   "cell_type": "code",
   "execution_count": 105,
   "metadata": {
    "collapsed": false,
    "slideshow": {
     "slide_type": "slide"
    }
   },
   "outputs": [],
   "source": [
    "import csv\n",
    "def load_cities_list():\n",
    "    cities = []\n",
    "    with open('data/misspelled_cities.csv') as data_file:\n",
    "        reader = csv.reader(data_file, delimiter='|')\n",
    "        for correct, wrong in reader:\n",
    "            cities.append({'correct': correct,'wrong': wrong})\n",
    "    return cities"
   ]
  },
  {
   "cell_type": "code",
   "execution_count": 106,
   "metadata": {
    "collapsed": false
   },
   "outputs": [
    {
     "name": "stdout",
     "output_type": "stream",
     "text": [
      "9\n",
      "1\n",
      "1\n",
      "2\n",
      "2\n",
      "1\n",
      "2\n",
      "2\n",
      "1\n",
      "2\n",
      "1\n",
      "4\n",
      "11\n",
      "1\n",
      "2\n",
      "12\n",
      "2\n",
      "1\n",
      "5\n",
      "1\n",
      "1\n",
      "2\n",
      "2\n",
      "1\n",
      "1\n",
      "1\n",
      "1\n",
      "1\n",
      "1\n",
      "1\n",
      "2\n",
      "1\n",
      "1\n",
      "1\n",
      "1\n",
      "1\n",
      "1\n",
      "3\n",
      "10\n"
     ]
    }
   ],
   "source": [
    "for city in load_cities_list():\n",
    "    print(j.levenshtein_distance(city['correct'], city['wrong']))"
   ]
  },
  {
   "cell_type": "markdown",
   "metadata": {
    "slideshow": {
     "slide_type": "slide"
    }
   },
   "source": [
    "**n-gram/Trigram**\n",
    "\n",
    "- groupings of letters (takes into more context)\n",
    "- proper unit of analysis (1-gram, 2-gram, 3-gram)\n",
    "- slower to implement - need to calculate n-gram for each string"
   ]
  },
  {
   "cell_type": "markdown",
   "metadata": {
    "collapsed": true,
    "slideshow": {
     "slide_type": "slide"
    }
   },
   "source": [
    "Sentences"
   ]
  },
  {
   "cell_type": "code",
   "execution_count": 107,
   "metadata": {
    "collapsed": true
   },
   "outputs": [],
   "source": [
    "def ngram(tokens, n):\n",
    "    grams =[tokens[i:i+n] for i in range(len(tokens)-(n-1))]\n",
    "    return grams"
   ]
  },
  {
   "cell_type": "code",
   "execution_count": 108,
   "metadata": {
    "collapsed": false
   },
   "outputs": [
    {
     "name": "stdout",
     "output_type": "stream",
     "text": [
      "['The', 'quick', 'brown']\n",
      "['quick', 'brown', 'fox']\n",
      "['brown', 'fox', 'jumped']\n",
      "['fox', 'jumped', 'over']\n",
      "['jumped', 'over', 'a']\n",
      "['over', 'a', 'lazy']\n",
      "['a', 'lazy', 'dog']\n"
     ]
    }
   ],
   "source": [
    "sentence_gram = \"The quick brown fox jumped over a lazy dog\".split()\n",
    "grams = ngram(sentence_gram, 3)\n",
    "\n",
    "for gram in grams:\n",
    "    print(gram)\n"
   ]
  },
  {
   "cell_type": "markdown",
   "metadata": {
    "collapsed": true,
    "slideshow": {
     "slide_type": "slide"
    }
   },
   "source": [
    "Words"
   ]
  },
  {
   "cell_type": "code",
   "execution_count": 109,
   "metadata": {
    "collapsed": false
   },
   "outputs": [],
   "source": [
    "def ngram(tokens, n):\n",
    "    grams =[tokens[i:i+n] for i in range(len(tokens)-(n-1))]\n",
    "    return grams"
   ]
  },
  {
   "cell_type": "code",
   "execution_count": 110,
   "metadata": {
    "collapsed": false
   },
   "outputs": [
    {
     "name": "stdout",
     "output_type": "stream",
     "text": [
      "pyd\n",
      "yda\n",
      "dat\n",
      "ata\n",
      "tad\n",
      "adc\n"
     ]
    }
   ],
   "source": [
    "word_gram = \"pydatadc\"\n",
    "grams = ngram(word_gram, 3)\n",
    "\n",
    "for gram in grams:\n",
    "    print(gram)\n"
   ]
  },
  {
   "cell_type": "markdown",
   "metadata": {
    "slideshow": {
     "slide_type": "slide"
    }
   },
   "source": [
    "Scoring Similarity: Jaccard similarity"
   ]
  },
  {
   "cell_type": "code",
   "execution_count": 111,
   "metadata": {
    "collapsed": true
   },
   "outputs": [],
   "source": [
    "def get_sim(a_tri,b_tri):\n",
    "    intersect = len(set(a_tri) & set(b_tri))\n",
    "    union = len(set(a_tri) | set(b_tri))\n",
    "    return float(intersect)/(union)"
   ]
  },
  {
   "cell_type": "code",
   "execution_count": 112,
   "metadata": {
    "collapsed": false
   },
   "outputs": [
    {
     "name": "stdout",
     "output_type": "stream",
     "text": [
      "['pyd', 'yda', 'dat', 'ata', 'tad', 'adc']\n"
     ]
    },
    {
     "data": {
      "text/plain": [
       "1.0"
      ]
     },
     "execution_count": 112,
     "metadata": {},
     "output_type": "execute_result"
    }
   ],
   "source": [
    "print(grams)\n",
    "get_sim(grams, grams)"
   ]
  },
  {
   "cell_type": "markdown",
   "metadata": {
    "slideshow": {
     "slide_type": "notes"
    }
   },
   "source": [
    "Word2Vec: uses cosine distance\n",
    "cosine distance between two vectors is nice but like have to find a way to quantify"
   ]
  },
  {
   "cell_type": "code",
   "execution_count": 114,
   "metadata": {
    "collapsed": false,
    "slideshow": {
     "slide_type": "fragment"
    }
   },
   "outputs": [
    {
     "data": {
      "text/plain": [
       "0.5"
      ]
     },
     "execution_count": 114,
     "metadata": {},
     "output_type": "execute_result"
    }
   ],
   "source": [
    "a_gram = ngram('receved data', 3)\n",
    "b_gram = ngram('received date', 3)\n",
    "get_sim(a_gram, b_gram)"
   ]
  },
  {
   "cell_type": "markdown",
   "metadata": {
    "slideshow": {
     "slide_type": "slide"
    }
   },
   "source": [
    "Trigam Search with Postgres"
   ]
  },
  {
   "cell_type": "code",
   "execution_count": 1,
   "metadata": {
    "collapsed": false
   },
   "outputs": [],
   "source": [
    "from sqlalchemy import create_engine\n",
    "\n",
    "engine = create_engine('postgresql://hhu373@localhost/cities')\n",
    "connection = engine.connect()"
   ]
  },
  {
   "cell_type": "code",
   "execution_count": 17,
   "metadata": {
    "collapsed": false
   },
   "outputs": [],
   "source": [
    "#https://www.postgresql.org/docs/9.1/static/pgtrgm.html\n",
    "#create extension pg_trgm;\n",
    "query=\"\"\"\n",
    "    SELECT \n",
    "                a.alt_spelling, \n",
    "                similarity(lower(a.alt_spelling), :city) as similarity \n",
    "    FROM        fuzzy_names as a \n",
    "    WHERE       lower(a.alt_spelling) % :city\n",
    "    ORDER BY    similarity DESC\"\"\""
   ]
  },
  {
   "cell_type": "code",
   "execution_count": 18,
   "metadata": {
    "collapsed": false,
    "slideshow": {
     "slide_type": "slide"
    }
   },
   "outputs": [],
   "source": [
    "from sqlalchemy.sql import text\n",
    "\n",
    "city_name = 'washington'\n",
    "res = engine.execute(text(query), city=city_name)"
   ]
  },
  {
   "cell_type": "code",
   "execution_count": 19,
   "metadata": {
    "collapsed": false
   },
   "outputs": [
    {
     "data": {
      "text/plain": [
       "[(' Washington D.C.', 0.733333),\n",
       " (' Washinton DC', 0.5),\n",
       " (' WSHINGTON DC', 0.5),\n",
       " (' WSHINGTONDC', 0.4375)]"
      ]
     },
     "execution_count": 19,
     "metadata": {},
     "output_type": "execute_result"
    }
   ],
   "source": [
    "res.fetchall()"
   ]
  },
  {
   "cell_type": "code",
   "execution_count": 87,
   "metadata": {
    "collapsed": false
   },
   "outputs": [
    {
     "data": {
      "text/plain": [
       "[(\"SECRETARY'S EMAIL\", 0.588235),\n",
       " ('SECRETARY SEBELIUS', 0.588235),\n",
       " (\"SECRETARY'S EMAIL\", 0.588235),\n",
       " (\"SECRETARY'S EMAIL\", 0.588235),\n",
       " ('FOR THE SECRETARY', 0.555556),\n",
       " ('FOR THE SECRETARY', 0.555556),\n",
       " (\"SECRETARY'S REMARKS\", 0.526316),\n",
       " ('NOTE FOR SECRETARY', 0.526316),\n",
       " ('SECRETARY OF AWESOME', 0.47619),\n",
       " ('SECRETARY IN TRIPOLI', 0.47619),\n",
       " (\"THE SECRETARY'S SPEECH\", 0.47619),\n",
       " ('SECRETARY OF AWESOME', 0.47619),\n",
       " ('SECRETARY OF AWESOME', 0.47619),\n",
       " ('NOTE FOR THE SECRETARY', 0.434783),\n",
       " (\"SECRETARY'S VIDEO SPEECH\", 0.434783),\n",
       " (\"SECRETARY'S VIDEO SPEECH\", 0.434783),\n",
       " ('MESSAGE FOR THE SECRETARY', 0.384615),\n",
       " ('PLEASE PASS TO THE SECRETARY', 0.37037),\n",
       " ('CALL WITH SECRETARY CLINTON', 0.37037),\n",
       " ('PLEASE PASS TO THE SECRETARY', 0.37037),\n",
       " ('CALL WITH SECRETARY CLINTON', 0.37037),\n",
       " ('NOTE FOR SECRETARY CLINTON', 0.37037),\n",
       " ('CALL WITH SECRETARY CLINTON', 0.37037),\n",
       " ('THANK YOU SECRETARY CLINTON', 0.357143),\n",
       " ('LETTER TO SECRETARY CLINTON', 0.357143),\n",
       " ('PLEASE CONVEY TO THE SECRETARY', 0.333333),\n",
       " ('DEAR MADAM SECRETARY, THANK YOU', 0.322581),\n",
       " ('KUDOS AND THANKS TO THE SECRETARY', 0.322581),\n",
       " ('STATEMENT BY THE PRESS SECRETARY', 0.3125),\n",
       " ('USGLC PRAISES SECRETARY CLINTON', 0.3125),\n",
       " ('USGLC PRAISES SECRETARY CLINTON', 0.3125),\n",
       " ('STATEMENT BY THE PRESS SECRETARY', 0.3125)]"
      ]
     },
     "execution_count": 87,
     "metadata": {},
     "output_type": "execute_result"
    }
   ],
   "source": [
    "query = \"\"\" select metadatasubject,\n",
    "similarity(lower(metadatasubject), :subject) as similarity\n",
    "from emails where lower(metadatasubject) % :subject order by similarity desc\n",
    "\"\"\"\n",
    "res = engine.execute(text(query), subject='secretary')\n",
    "res.fetchall()"
   ]
  },
  {
   "cell_type": "markdown",
   "metadata": {
    "slideshow": {
     "slide_type": "slide"
    }
   },
   "source": [
    "Some things to note:\n",
    "   - the data set i'm working with is not large\n",
    "   - gist and gin indexes for trigrams\n",
    "   \n",
    "   ` CREATE INDEX trgm_idx ON table_name USING gist (t gist_trgm_ops);`\n",
    "   \n",
    "   or \n",
    "   \n",
    "   ` CREATE INDEX trgm_idx ON table_name USING gin (t gin_trgm_ops);`\n",
    "    "
   ]
  },
  {
   "cell_type": "markdown",
   "metadata": {
    "collapsed": true,
    "slideshow": {
     "slide_type": "slide"
    }
   },
   "source": [
    "**Other Similarity Metrics**\n",
    "- NLTK: wordnet\n",
    "- Word2Vec: uses cosine distance\n",
    "    - cosine distance between two vectors\n"
   ]
  },
  {
   "cell_type": "code",
   "execution_count": 20,
   "metadata": {
    "collapsed": true
   },
   "outputs": [],
   "source": [
    "from nltk.corpus import wordnet"
   ]
  },
  {
   "cell_type": "code",
   "execution_count": 21,
   "metadata": {
    "collapsed": false
   },
   "outputs": [
    {
     "data": {
      "text/plain": [
       "0.875"
      ]
     },
     "execution_count": 21,
     "metadata": {},
     "output_type": "execute_result"
    }
   ],
   "source": [
    "word1 = wordnet.synsets(\"blue\")\n",
    "word2 = wordnet.synsets(\"green\")\n",
    "word1[0].wup_similarity(word2[0])"
   ]
  },
  {
   "cell_type": "code",
   "execution_count": null,
   "metadata": {
    "collapsed": true
   },
   "outputs": [],
   "source": [
    "#sample data set from: http://mattmahoney.net/dc/text8.zip\n",
    "import word2vec\n",
    "word2vec.word2phrase('text/text8', 'text/text8-phrases', verbose=True)\n",
    "word2vec.word2vec('text/text8-phrases', 'text/text8.bin', size=100, verbose=True)"
   ]
  },
  {
   "cell_type": "code",
   "execution_count": 126,
   "metadata": {
    "collapsed": false
   },
   "outputs": [
    {
     "data": {
      "text/plain": [
       "array([-0.10188702,  0.22015855, -0.0104067 , -0.11283471,  0.17996578,\n",
       "        0.03414147,  0.00380119,  0.02513149,  0.05538284,  0.03358232,\n",
       "        0.0046195 , -0.00982001,  0.14096248, -0.03092421,  0.02837873,\n",
       "       -0.10945819,  0.06230062, -0.09781564,  0.05339954, -0.0469771 ,\n",
       "       -0.24697879, -0.01727498, -0.07510021,  0.05243083,  0.13334657,\n",
       "       -0.0842028 , -0.15239957,  0.04965223,  0.15619534,  0.07072332,\n",
       "        0.04465058,  0.04456624, -0.13465466,  0.07669131, -0.04658106,\n",
       "        0.03763594,  0.08352708, -0.06075072,  0.03647474, -0.03983858,\n",
       "       -0.05725538,  0.19554052, -0.0493384 , -0.0864112 , -0.01019673,\n",
       "        0.11497202, -0.04002611, -0.01038931,  0.09136914, -0.06539407,\n",
       "        0.06577577,  0.02044055,  0.05330006, -0.08380378,  0.08494037,\n",
       "       -0.03088019, -0.15074271, -0.00925445, -0.05506656, -0.06991567,\n",
       "       -0.18828158, -0.15286787,  0.0320463 ,  0.03634158,  0.00368489,\n",
       "       -0.05393973, -0.06775434, -0.24145566, -0.04210955,  0.06318185,\n",
       "        0.23025398, -0.10110332, -0.10012946, -0.10002378,  0.00461499,\n",
       "       -0.01076762, -0.27615121, -0.01865953,  0.0557254 , -0.14494336,\n",
       "        0.00970686,  0.03188681,  0.08608502, -0.07440199, -0.04903406,\n",
       "        0.12158494,  0.03691097, -0.00689578,  0.04418994,  0.1186804 ,\n",
       "       -0.00316441, -0.02979347,  0.00518584,  0.18834449,  0.16925505,\n",
       "        0.04751701,  0.04889599,  0.17117469, -0.18682924, -0.10401504])"
      ]
     },
     "execution_count": 126,
     "metadata": {},
     "output_type": "execute_result"
    }
   ],
   "source": [
    "import word2vec\n",
    "model = word2vec.load('text/text8.bin')\n",
    "model['coffee']"
   ]
  },
  {
   "cell_type": "code",
   "execution_count": 115,
   "metadata": {
    "collapsed": true
   },
   "outputs": [],
   "source": [
    "def get_similar_words(word):\n",
    "    indexes, metrics = model.cosine(word)\n",
    "    return model.generate_response(indexes, metrics).tolist()"
   ]
  },
  {
   "cell_type": "code",
   "execution_count": 119,
   "metadata": {
    "collapsed": false
   },
   "outputs": [
    {
     "data": {
      "text/plain": [
       "[('cotton', 0.8697562574405371),\n",
       " ('wheat', 0.8625143596285044),\n",
       " ('beef', 0.8595074656304864),\n",
       " ('tea', 0.8569193660043646),\n",
       " ('bananas', 0.8564837525303834),\n",
       " ('poultry', 0.84936196362873),\n",
       " ('sugar', 0.8485541657571788),\n",
       " ('cocoa', 0.8464163883133844),\n",
       " ('rice', 0.8437539975509329),\n",
       " ('maize', 0.8435050129873531)]"
      ]
     },
     "execution_count": 119,
     "metadata": {},
     "output_type": "execute_result"
    }
   ],
   "source": [
    "get_similar_words('coffee')"
   ]
  },
  {
   "cell_type": "code",
   "execution_count": 120,
   "metadata": {
    "collapsed": false,
    "slideshow": {
     "slide_type": "notes"
    }
   },
   "outputs": [
    {
     "data": {
      "text/plain": [
       "[('password', 0.7342604837846847),\n",
       " ('mail_server', 0.7157839344016247),\n",
       " ('irc_server', 0.71493902396743),\n",
       " ('email', 0.7148194115667482),\n",
       " ('cellphone', 0.7046435452801667),\n",
       " ('web_server', 0.7044565758834691),\n",
       " ('dhcp', 0.7036272137098812),\n",
       " ('x_chat', 0.7013826973226731),\n",
       " ('mysql', 0.7012250028951611),\n",
       " ('cross_platform', 0.6879122291851275)]"
      ]
     },
     "execution_count": 120,
     "metadata": {},
     "output_type": "execute_result"
    }
   ],
   "source": [
    "get_similar_words('emails')"
   ]
  },
  {
   "cell_type": "markdown",
   "metadata": {
    "slideshow": {
     "slide_type": "slide"
    }
   },
   "source": [
    "# Questions?\n",
    "https://github.com/jiaqi216/pydata_dc"
   ]
  }
 ],
 "metadata": {
  "celltoolbar": "Slideshow",
  "kernelspec": {
   "display_name": "Python 3",
   "language": "python",
   "name": "python3"
  },
  "language_info": {
   "codemirror_mode": {
    "name": "ipython",
    "version": 3
   },
   "file_extension": ".py",
   "mimetype": "text/x-python",
   "name": "python",
   "nbconvert_exporter": "python",
   "pygments_lexer": "ipython3",
   "version": "3.5.0"
  }
 },
 "nbformat": 4,
 "nbformat_minor": 0
}
